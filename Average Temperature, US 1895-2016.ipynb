{
 "cells": [
  {
   "cell_type": "markdown",
   "metadata": {},
   "source": [
    "# Introduction: Average Temperature within the USA: 1895 - 2016\n",
    "With this project I plan to take the average temperature within the contiguous United States of America from 1895 - 2016 to provide a quick analysis and visual representation of the change."
   ]
  },
  {
   "cell_type": "markdown",
   "metadata": {},
   "source": [
    "## Methods:\n",
    "This project will involve gathering the data, filtering out irrelevant data, cleaning out any likely errors and performing descriptive statistical analysis. I will be utilizing the following Python packages to accomplish my goals:\n",
    "<li>Pandas: Provides structure to the data in the form of Data Frames\n",
    "<li>Numpy: Provides arrays\n",
    "<li>Matplotlib: Provides data visualization capability"
   ]
  },
  {
   "cell_type": "code",
   "execution_count": 1,
   "metadata": {},
   "outputs": [],
   "source": [
    "import pandas as pd\n",
    "import numpy as np\n",
    "import matplotlib.pyplot as plt\n",
    "plt.style.use('seaborn')\n",
    "%matplotlib inline"
   ]
  },
  {
   "cell_type": "markdown",
   "metadata": {},
   "source": [
    "## Data:\n",
    "Data will be obtained from the following source: https://www.ncdc.noaa.gov/ <br>\n",
    "The data will not be in a \"ready to go\" format as you can see below. This will require cleaning (column creation, re-indexing, data type reformatting)"
   ]
  },
  {
   "cell_type": "code",
   "execution_count": 2,
   "metadata": {},
   "outputs": [
    {
     "data": {
      "text/html": [
       "<div>\n",
       "<style scoped>\n",
       "    .dataframe tbody tr th:only-of-type {\n",
       "        vertical-align: middle;\n",
       "    }\n",
       "\n",
       "    .dataframe tbody tr th {\n",
       "        vertical-align: top;\n",
       "    }\n",
       "\n",
       "    .dataframe thead th {\n",
       "        text-align: right;\n",
       "    }\n",
       "</style>\n",
       "<table border=\"1\" class=\"dataframe\">\n",
       "  <thead>\n",
       "    <tr style=\"text-align: right;\">\n",
       "      <th></th>\n",
       "      <th>Contiguous U.S.</th>\n",
       "      <th>Average Temperature</th>\n",
       "      <th>January-December</th>\n",
       "    </tr>\n",
       "  </thead>\n",
       "  <tbody>\n",
       "    <tr>\n",
       "      <td>0</td>\n",
       "      <td>Units: Degrees Fahrenheit</td>\n",
       "      <td>NaN</td>\n",
       "      <td>NaN</td>\n",
       "    </tr>\n",
       "    <tr>\n",
       "      <td>1</td>\n",
       "      <td>Base Period: 1901-2000</td>\n",
       "      <td>NaN</td>\n",
       "      <td>NaN</td>\n",
       "    </tr>\n",
       "    <tr>\n",
       "      <td>2</td>\n",
       "      <td>Missing: -99</td>\n",
       "      <td>NaN</td>\n",
       "      <td>NaN</td>\n",
       "    </tr>\n",
       "    <tr>\n",
       "      <td>3</td>\n",
       "      <td>Date</td>\n",
       "      <td>Value</td>\n",
       "      <td>Anomaly</td>\n",
       "    </tr>\n",
       "    <tr>\n",
       "      <td>4</td>\n",
       "      <td>189512</td>\n",
       "      <td>50.34</td>\n",
       "      <td>-1.68</td>\n",
       "    </tr>\n",
       "    <tr>\n",
       "      <td>...</td>\n",
       "      <td>...</td>\n",
       "      <td>...</td>\n",
       "      <td>...</td>\n",
       "    </tr>\n",
       "    <tr>\n",
       "      <td>121</td>\n",
       "      <td>201212</td>\n",
       "      <td>55.28</td>\n",
       "      <td>3.26</td>\n",
       "    </tr>\n",
       "    <tr>\n",
       "      <td>122</td>\n",
       "      <td>201312</td>\n",
       "      <td>52.43</td>\n",
       "      <td>0.41</td>\n",
       "    </tr>\n",
       "    <tr>\n",
       "      <td>123</td>\n",
       "      <td>201412</td>\n",
       "      <td>52.54</td>\n",
       "      <td>0.52</td>\n",
       "    </tr>\n",
       "    <tr>\n",
       "      <td>124</td>\n",
       "      <td>201512</td>\n",
       "      <td>54.40</td>\n",
       "      <td>2.38</td>\n",
       "    </tr>\n",
       "    <tr>\n",
       "      <td>125</td>\n",
       "      <td>201612</td>\n",
       "      <td>54.92</td>\n",
       "      <td>2.90</td>\n",
       "    </tr>\n",
       "  </tbody>\n",
       "</table>\n",
       "<p>126 rows × 3 columns</p>\n",
       "</div>"
      ],
      "text/plain": [
       "               Contiguous U.S.  Average Temperature  January-December\n",
       "0    Units: Degrees Fahrenheit                  NaN               NaN\n",
       "1       Base Period: 1901-2000                  NaN               NaN\n",
       "2                 Missing: -99                  NaN               NaN\n",
       "3                         Date                Value           Anomaly\n",
       "4                       189512                50.34             -1.68\n",
       "..                         ...                  ...               ...\n",
       "121                     201212                55.28              3.26\n",
       "122                     201312                52.43              0.41\n",
       "123                     201412                52.54              0.52\n",
       "124                     201512                54.40              2.38\n",
       "125                     201612                54.92              2.90\n",
       "\n",
       "[126 rows x 3 columns]"
      ]
     },
     "execution_count": 2,
     "metadata": {},
     "output_type": "execute_result"
    }
   ],
   "source": [
    "df = pd.read_csv('U.S., Average Temperature, January-December.csv')\n",
    "df"
   ]
  },
  {
   "cell_type": "code",
   "execution_count": 3,
   "metadata": {},
   "outputs": [
    {
     "data": {
      "text/html": [
       "<div>\n",
       "<style scoped>\n",
       "    .dataframe tbody tr th:only-of-type {\n",
       "        vertical-align: middle;\n",
       "    }\n",
       "\n",
       "    .dataframe tbody tr th {\n",
       "        vertical-align: top;\n",
       "    }\n",
       "\n",
       "    .dataframe thead th {\n",
       "        text-align: right;\n",
       "    }\n",
       "</style>\n",
       "<table border=\"1\" class=\"dataframe\">\n",
       "  <thead>\n",
       "    <tr style=\"text-align: right;\">\n",
       "      <th></th>\n",
       "      <th>date</th>\n",
       "      <th>temperature (F)</th>\n",
       "    </tr>\n",
       "  </thead>\n",
       "  <tbody>\n",
       "    <tr>\n",
       "      <td>0</td>\n",
       "      <td>189512</td>\n",
       "      <td>50.34</td>\n",
       "    </tr>\n",
       "    <tr>\n",
       "      <td>1</td>\n",
       "      <td>189612</td>\n",
       "      <td>51.99</td>\n",
       "    </tr>\n",
       "    <tr>\n",
       "      <td>2</td>\n",
       "      <td>189712</td>\n",
       "      <td>51.56</td>\n",
       "    </tr>\n",
       "    <tr>\n",
       "      <td>3</td>\n",
       "      <td>189812</td>\n",
       "      <td>51.43</td>\n",
       "    </tr>\n",
       "    <tr>\n",
       "      <td>4</td>\n",
       "      <td>189912</td>\n",
       "      <td>51.01</td>\n",
       "    </tr>\n",
       "    <tr>\n",
       "      <td>...</td>\n",
       "      <td>...</td>\n",
       "      <td>...</td>\n",
       "    </tr>\n",
       "    <tr>\n",
       "      <td>117</td>\n",
       "      <td>201212</td>\n",
       "      <td>55.28</td>\n",
       "    </tr>\n",
       "    <tr>\n",
       "      <td>118</td>\n",
       "      <td>201312</td>\n",
       "      <td>52.43</td>\n",
       "    </tr>\n",
       "    <tr>\n",
       "      <td>119</td>\n",
       "      <td>201412</td>\n",
       "      <td>52.54</td>\n",
       "    </tr>\n",
       "    <tr>\n",
       "      <td>120</td>\n",
       "      <td>201512</td>\n",
       "      <td>54.40</td>\n",
       "    </tr>\n",
       "    <tr>\n",
       "      <td>121</td>\n",
       "      <td>201612</td>\n",
       "      <td>54.92</td>\n",
       "    </tr>\n",
       "  </tbody>\n",
       "</table>\n",
       "<p>122 rows × 2 columns</p>\n",
       "</div>"
      ],
      "text/plain": [
       "       date temperature (F)\n",
       "0    189512           50.34\n",
       "1    189612           51.99\n",
       "2    189712           51.56\n",
       "3    189812           51.43\n",
       "4    189912           51.01\n",
       "..      ...             ...\n",
       "117  201212           55.28\n",
       "118  201312           52.43\n",
       "119  201412           52.54\n",
       "120  201512           54.40\n",
       "121  201612           54.92\n",
       "\n",
       "[122 rows x 2 columns]"
      ]
     },
     "execution_count": 3,
     "metadata": {},
     "output_type": "execute_result"
    }
   ],
   "source": [
    "#Create new columns, populate columns with data from the preceeding data frame \n",
    "df.columns = ['date', 'temperature (F)', 'anomaly']\n",
    "df = df.loc[4:,('date','temperature (F)')]\n",
    "df = df.reset_index(drop = True)\n",
    "df"
   ]
  },
  {
   "cell_type": "code",
   "execution_count": 4,
   "metadata": {},
   "outputs": [
    {
     "data": {
      "text/plain": [
       "date               object\n",
       "temperature (F)    object\n",
       "dtype: object"
      ]
     },
     "execution_count": 4,
     "metadata": {},
     "output_type": "execute_result"
    }
   ],
   "source": [
    "#Check data types\n",
    "df.dtypes"
   ]
  },
  {
   "cell_type": "code",
   "execution_count": 5,
   "metadata": {},
   "outputs": [
    {
     "data": {
      "text/plain": [
       "dtype('float64')"
      ]
     },
     "execution_count": 5,
     "metadata": {},
     "output_type": "execute_result"
    }
   ],
   "source": [
    "#Convert temperature to float from string object\n",
    "df['temperature (F)'] = df['temperature (F)'].astype(float)\n",
    "df['temperature (F)'].dtype"
   ]
  },
  {
   "cell_type": "markdown",
   "metadata": {},
   "source": [
    "## Data Analysis"
   ]
  },
  {
   "cell_type": "code",
   "execution_count": 9,
   "metadata": {},
   "outputs": [
    {
     "data": {
      "image/png": "[encoded data removed]",
      "text/plain": [
       "<Figure size 2160x720 with 1 Axes>"
      ]
     },
     "metadata": {
      "needs_background": "light"
     },
     "output_type": "display_data"
    },
    {
     "data": {
      "text/plain": [
       "count    122.000000\n",
       "mean      52.182705\n",
       "std        0.967924\n",
       "min       50.060000\n",
       "25%       51.550000\n",
       "50%       51.960000\n",
       "75%       52.742500\n",
       "max       55.280000\n",
       "Name: temperature (F), dtype: float64"
      ]
     },
     "execution_count": 9,
     "metadata": {},
     "output_type": "execute_result"
    }
   ],
   "source": [
    "#Scatter plot with a line representing the mean\n",
    "x = df['date']\n",
    "y = df['temperature (F)']\n",
    "meanTemp = y.mean()\n",
    "plt.scatter(x,y, color = 'g', label = 'Avg Annual Temps')\n",
    "plt.axhline(meanTemp, color = 'y', label = 'Avg Temp')\n",
    "plt.xlabel('Date', fontsize = 18)\n",
    "plt.ylabel('Temperature (F)', fontsize = 18)\n",
    "plt.rcParams['figure.figsize'] = 30,10\n",
    "plt.title('Average temperature within the Contiguous United States of America: 1895-2016', fontsize = 20)\n",
    "plt.xticks(rotation = 90)\n",
    "plt.legend(fontsize=18)\n",
    "plt.show()\n",
    "\n",
    "#Descriptive summary of the temperature series \n",
    "df['temperature (F)'].describe()\n",
    "\n"
   ]
  },
  {
   "cell_type": "code",
   "execution_count": 7,
   "metadata": {},
   "outputs": [
    {
     "name": "stdout",
     "output_type": "stream",
     "text": [
      "Total years above the mean: 49\n",
      "Total years below the mean: 73\n",
      "Total years below the mean 1990 - 2016: 2\n",
      "Total years above the mean 1990 - 2016: 25\n"
     ]
    }
   ],
   "source": [
    "meanT = df['temperature (F)'].mean()\n",
    "\n",
    "filtA = (df['temperature (F)'] > meanT)\n",
    "filtB = (df['temperature (F)'] < meanT)\n",
    "filtC = (df['temperature (F)'] < meanT) & (df['date'] >= '199012') & (df['date'] <= '201612')\n",
    "filtD = (df['temperature (F)'] > meanT) & (df['date'] >= '199012') & (df['date'] <= '201612')\n",
    "\n",
    "\n",
    "yrsAboveMean = df[filtA]['temperature (F)'].count()\n",
    "yrsBelowMean = df[filtB]['temperature (F)'].count()\n",
    "yrsBelow19902016 = df[filtC]['temperature (F)'].count()\n",
    "yrsAbove19902016 = df[filtD]['temperature (F)'].count()\n",
    "\n",
    "print('Total years above the mean: ' + str(yrsAboveMean))\n",
    "print('Total years below the mean: ' + str(yrsBelowMean)) \n",
    "print('Total years below the mean 1990 - 2016: ' + str(yrsBelow19902016))\n",
    "print('Total years above the mean 1990 - 2016: ' + str(yrsAbove19902016))"
   ]
  },
  {
   "cell_type": "code",
   "execution_count": 8,
   "metadata": {},
   "outputs": [
    {
     "name": "stdout",
     "output_type": "stream",
     "text": [
      "       date  temperature (F)\n",
      "117  201212            55.28\n",
      "121  201612            54.92\n",
      "120  201512            54.40\n",
      "111  200612            54.25\n",
      "103  199812            54.23\n",
      "39   193412            54.10\n",
      "104  199912            53.88\n",
      "26   192112            53.80\n",
      "106  200112            53.69\n",
      "112  200712            53.65\n"
     ]
    }
   ],
   "source": [
    "#Top 10 warmest years\n",
    "top10 = df.sort_values('temperature (F)', ascending = False).head(10)\n",
    "print(top10)"
   ]
  },
  {
   "cell_type": "markdown",
   "metadata": {},
   "source": [
    "## Results/Discussion:\n",
    "<li>Over the 122 obervations, although there are more years with temperatures below the mean, a solid rise in average annual temperature can be seen.\n",
    "<li>From 1990 - 2016, not only do we see many more years with temperatures above the mean, we also see 8 of the top 10 warmest years amongst the 122 observations."
   ]
  },
  {
   "cell_type": "code",
   "execution_count": null,
   "metadata": {},
   "outputs": [],
   "source": []
  }
 ],
 "metadata": {
  "kernelspec": {
   "display_name": "Python 3",
   "language": "python",
   "name": "python3"
  },
  "language_info": {
   "codemirror_mode": {
    "name": "ipython",
    "version": 3
   },
   "file_extension": ".py",
   "mimetype": "text/x-python",
   "name": "python",
   "nbconvert_exporter": "python",
   "pygments_lexer": "ipython3",
   "version": "3.7.4"
  }
 },
 "nbformat": 4,
 "nbformat_minor": 2
}
